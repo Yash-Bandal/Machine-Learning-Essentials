{
  "cells": [
    {
      "cell_type": "markdown",
      "source": [
        "Recognize optical character using ANN"
      ],
      "metadata": {
        "id": "rGkK8TAAmr1d"
      },
      "id": "rGkK8TAAmr1d"
    },
    {
      "cell_type": "markdown",
      "source": [
        "# Optical Character Recognition"
      ],
      "metadata": {
        "id": "OJmke3aUVeJ6"
      },
      "id": "OJmke3aUVeJ6"
    },
    {
      "cell_type": "code",
      "execution_count": 2,
      "id": "b929f300",
      "metadata": {
        "id": "b929f300"
      },
      "outputs": [],
      "source": [
        "# importing libraries\n",
        "import pandas as pd\n",
        "import numpy as np\n",
        "import matplotlib.pyplot as plt\n",
        "import tensorflow as tf\n",
        "from tensorflow import keras"
      ]
    },
    {
      "cell_type": "code",
      "execution_count": 15,
      "id": "d3b6d4d1",
      "metadata": {
        "id": "d3b6d4d1"
      },
      "outputs": [],
      "source": [
        "# importing dataset\n",
        "mnist = keras.datasets.mnist\n",
        "(x_train_full, y_train_full), (x_test, y_test) = mnist.load_data()"
      ]
    },
    {
      "cell_type": "code",
      "execution_count": 23,
      "id": "207c99d6",
      "metadata": {
        "id": "207c99d6",
        "outputId": "12f6f56e-9580-4ce6-aeb5-146ea35b1c7d",
        "colab": {
          "base_uri": "https://localhost:8080/"
        }
      },
      "outputs": [
        {
          "output_type": "execute_result",
          "data": {
            "text/plain": [
              "(60000, 28, 28)"
            ]
          },
          "metadata": {},
          "execution_count": 23
        }
      ],
      "source": [
        "x_train_full.shape #3d array - image data\n",
        "\n",
        "# 60,000 training images and labels\n",
        "# 10,000 test images and labels"
      ]
    },
    {
      "cell_type": "code",
      "source": [
        "y_train_full.shape #1d array image labels"
      ],
      "metadata": {
        "colab": {
          "base_uri": "https://localhost:8080/"
        },
        "id": "Q84lvATSKdou",
        "outputId": "d05fc43b-4553-46bc-db43-43dc959e31a5"
      },
      "id": "Q84lvATSKdou",
      "execution_count": 22,
      "outputs": [
        {
          "output_type": "execute_result",
          "data": {
            "text/plain": [
              "(60000,)"
            ]
          },
          "metadata": {},
          "execution_count": 22
        }
      ]
    },
    {
      "cell_type": "code",
      "execution_count": 17,
      "id": "daf42588",
      "metadata": {
        "id": "daf42588",
        "outputId": "1b6edf93-dca8-497e-bf52-bf8d077530c8",
        "colab": {
          "base_uri": "https://localhost:8080/",
          "height": 447
        }
      },
      "outputs": [
        {
          "output_type": "execute_result",
          "data": {
            "text/plain": [
              "<matplotlib.image.AxesImage at 0x7967c3678ad0>"
            ]
          },
          "metadata": {},
          "execution_count": 17
        },
        {
          "output_type": "display_data",
          "data": {
            "text/plain": [
              "<Figure size 640x480 with 1 Axes>"
            ],
            "image/png": "[encoded data removed]"
          },
          "metadata": {}
        }
      ],
      "source": [
        "plt.imshow(x_train_full[6])"
      ]
    },
    {
      "cell_type": "code",
      "execution_count": 18,
      "id": "9ee3c12f",
      "metadata": {
        "id": "9ee3c12f"
      },
      "outputs": [],
      "source": [
        "# feature scaling\n",
        "x_train_n = x_train_full / 255. #It scales all pixel values from 0–255 → 0–1 128 becomes 0.5 → medium gray\n",
        "x_test_n = x_test / 255."
      ]
    },
    {
      "cell_type": "code",
      "execution_count": 19,
      "id": "5835224a",
      "metadata": {
        "id": "5835224a"
      },
      "outputs": [],
      "source": [
        "# Train_Valid_Test Split\n",
        "x_valid, x_train = x_train_n[:6000],x_train_n[6000:] #your training data is x_train_n[6000:] (6000 to the end), and your validation data is x_train_n[:6000] (the first 6000).\n",
        "y_valid, y_train = y_train_full[:6000],y_train_full[6000:]\n",
        "x_test = x_test_n"
      ]
    },
    {
      "cell_type": "markdown",
      "source": [
        "Training data: 54,000 samples\n",
        "\n",
        "Validation data: 6,000 samples\n",
        "\n",
        "Test data: 10,000 samples"
      ],
      "metadata": {
        "id": "XjCsHYH_LLyd"
      },
      "id": "XjCsHYH_LLyd"
    },
    {
      "cell_type": "code",
      "execution_count": 20,
      "id": "48bdc645",
      "metadata": {
        "id": "48bdc645"
      },
      "outputs": [],
      "source": [
        "np.random.seed(42)\n",
        "tf.random.set_seed(42)\n",
        "\n",
        "# Random processes in machine learning can lead to slight variations\n",
        "# in results each time the code is run, especially with neural networks.\n",
        "# Setting the seed helps ensure that these variations don't affect the outcomes.\n",
        "# anyone runs the code will get same output..this 2 lines actualy set a seed for random number generator..means once random number generated\n",
        "#everytime same random num generated"
      ]
    },
    {
      "cell_type": "code",
      "execution_count": 24,
      "id": "cdc67956",
      "metadata": {
        "id": "cdc67956",
        "colab": {
          "base_uri": "https://localhost:8080/"
        },
        "outputId": "7efeab49-9d4c-457e-9a55-d41ea34343e5"
      },
      "outputs": [
        {
          "output_type": "stream",
          "name": "stderr",
          "text": [
            "/usr/local/lib/python3.11/dist-packages/keras/src/layers/reshaping/flatten.py:37: UserWarning: Do not pass an `input_shape`/`input_dim` argument to a layer. When using Sequential models, prefer using an `Input(shape)` object as the first layer in the model instead.\n",
            "  super().__init__(**kwargs)\n"
          ]
        }
      ],
      "source": [
        "# Model Building\n",
        "model = keras.models.Sequential()\n",
        "\n",
        "model.add(keras.layers.Flatten(input_shape=[28,28])) #convert and add 2d img to 1d arr form for model train\n",
        "\n",
        "model.add(keras.layers.Dense(200,activation='relu'))\n",
        "\n",
        "model.add(keras.layers.Dense(100,activation='relu'))\n",
        "\n",
        "\n",
        "model.add(keras.layers.Dense(10,activation='softmax')) #output layer 10 neurons are used because you are classifying the MNIST digits, which have 10 classes (0 to 9).\n",
        "\n",
        "\n",
        "#activation='relu' specifies the activation function used in this layer.\n",
        "# ReLU (Rectified Linear Unit) is a common activation function,\n",
        "#  and it helps the model learn non-linear relationships in the data.\n",
        "#   It outputs 0 if the input is negative and the input itself if it's positive.\n",
        "\n",
        "#  Softmax converts the output into probabilities, with each neuron’s\n",
        "#  output representing the probability that the input image belongs to that class."
      ]
    },
    {
      "cell_type": "code",
      "execution_count": 25,
      "id": "d26ee23a",
      "metadata": {
        "id": "d26ee23a"
      },
      "outputs": [],
      "source": [
        "model.compile(\n",
        "    loss='sparse_categorical_crossentropy',  # How to measure error\n",
        "    metrics=['accuracy'],                   # What to track during training\n",
        "    optimizer='sgd'                         # How to learn and update\n",
        ")\n",
        "\n",
        "\n",
        "#spare = all intergers 0-9 and not only encoded 0 1"
      ]
    },
    {
      "cell_type": "code",
      "execution_count": 26,
      "id": "567f4a1f",
      "metadata": {
        "id": "567f4a1f",
        "outputId": "bae6f488-3ea4-400a-ee26-b67f1c17ea95",
        "colab": {
          "base_uri": "https://localhost:8080/"
        },
        "collapsed": true
      },
      "outputs": [
        {
          "output_type": "stream",
          "name": "stdout",
          "text": [
            "Epoch 1/60\n",
            "\u001b[1m1688/1688\u001b[0m \u001b[32m━━━━━━━━━━━━━━━━━━━━\u001b[0m\u001b[37m\u001b[0m \u001b[1m7s\u001b[0m 3ms/step - accuracy: 0.7053 - loss: 1.0736 - val_accuracy: 0.9107 - val_loss: 0.3155\n",
            "Epoch 2/60\n",
            "\u001b[1m1688/1688\u001b[0m \u001b[32m━━━━━━━━━━━━━━━━━━━━\u001b[0m\u001b[37m\u001b[0m \u001b[1m10s\u001b[0m 4ms/step - accuracy: 0.9086 - loss: 0.3196 - val_accuracy: 0.9283 - val_loss: 0.2501\n",
            "Epoch 3/60\n",
            "\u001b[1m1688/1688\u001b[0m \u001b[32m━━━━━━━━━━━━━━━━━━━━\u001b[0m\u001b[37m\u001b[0m \u001b[1m5s\u001b[0m 3ms/step - accuracy: 0.9259 - loss: 0.2564 - val_accuracy: 0.9397 - val_loss: 0.2145\n",
            "Epoch 4/60\n",
            "\u001b[1m1688/1688\u001b[0m \u001b[32m━━━━━━━━━━━━━━━━━━━━\u001b[0m\u001b[37m\u001b[0m \u001b[1m6s\u001b[0m 4ms/step - accuracy: 0.9369 - loss: 0.2173 - val_accuracy: 0.9467 - val_loss: 0.1889\n",
            "Epoch 5/60\n",
            "\u001b[1m1688/1688\u001b[0m \u001b[32m━━━━━━━━━━━━━━━━━━━━\u001b[0m\u001b[37m\u001b[0m \u001b[1m5s\u001b[0m 3ms/step - accuracy: 0.9457 - loss: 0.1892 - val_accuracy: 0.9508 - val_loss: 0.1698\n",
            "Epoch 6/60\n",
            "\u001b[1m1688/1688\u001b[0m \u001b[32m━━━━━━━━━━━━━━━━━━━━\u001b[0m\u001b[37m\u001b[0m \u001b[1m6s\u001b[0m 3ms/step - accuracy: 0.9525 - loss: 0.1678 - val_accuracy: 0.9547 - val_loss: 0.1550\n",
            "Epoch 7/60\n",
            "\u001b[1m1688/1688\u001b[0m \u001b[32m━━━━━━━━━━━━━━━━━━━━\u001b[0m\u001b[37m\u001b[0m \u001b[1m5s\u001b[0m 3ms/step - accuracy: 0.9572 - loss: 0.1509 - val_accuracy: 0.9583 - val_loss: 0.1434\n",
            "Epoch 8/60\n",
            "\u001b[1m1688/1688\u001b[0m \u001b[32m━━━━━━━━━━━━━━━━━━━━\u001b[0m\u001b[37m\u001b[0m \u001b[1m5s\u001b[0m 3ms/step - accuracy: 0.9613 - loss: 0.1370 - val_accuracy: 0.9607 - val_loss: 0.1339\n",
            "Epoch 9/60\n",
            "\u001b[1m1688/1688\u001b[0m \u001b[32m━━━━━━━━━━━━━━━━━━━━\u001b[0m\u001b[37m\u001b[0m \u001b[1m6s\u001b[0m 4ms/step - accuracy: 0.9648 - loss: 0.1254 - val_accuracy: 0.9633 - val_loss: 0.1261\n",
            "Epoch 10/60\n",
            "\u001b[1m1688/1688\u001b[0m \u001b[32m━━━━━━━━━━━━━━━━━━━━\u001b[0m\u001b[37m\u001b[0m \u001b[1m5s\u001b[0m 3ms/step - accuracy: 0.9678 - loss: 0.1153 - val_accuracy: 0.9652 - val_loss: 0.1195\n",
            "Epoch 11/60\n",
            "\u001b[1m1688/1688\u001b[0m \u001b[32m━━━━━━━━━━━━━━━━━━━━\u001b[0m\u001b[37m\u001b[0m \u001b[1m6s\u001b[0m 4ms/step - accuracy: 0.9701 - loss: 0.1066 - val_accuracy: 0.9668 - val_loss: 0.1138\n",
            "Epoch 12/60\n",
            "\u001b[1m1688/1688\u001b[0m \u001b[32m━━━━━━━━━━━━━━━━━━━━\u001b[0m\u001b[37m\u001b[0m \u001b[1m10s\u001b[0m 3ms/step - accuracy: 0.9721 - loss: 0.0988 - val_accuracy: 0.9678 - val_loss: 0.1089\n",
            "Epoch 13/60\n",
            "\u001b[1m1688/1688\u001b[0m \u001b[32m━━━━━━━━━━━━━━━━━━━━\u001b[0m\u001b[37m\u001b[0m \u001b[1m5s\u001b[0m 3ms/step - accuracy: 0.9741 - loss: 0.0920 - val_accuracy: 0.9690 - val_loss: 0.1047\n",
            "Epoch 14/60\n",
            "\u001b[1m1688/1688\u001b[0m \u001b[32m━━━━━━━━━━━━━━━━━━━━\u001b[0m\u001b[37m\u001b[0m \u001b[1m5s\u001b[0m 3ms/step - accuracy: 0.9762 - loss: 0.0859 - val_accuracy: 0.9702 - val_loss: 0.1010\n",
            "Epoch 15/60\n",
            "\u001b[1m1688/1688\u001b[0m \u001b[32m━━━━━━━━━━━━━━━━━━━━\u001b[0m\u001b[37m\u001b[0m \u001b[1m11s\u001b[0m 4ms/step - accuracy: 0.9777 - loss: 0.0803 - val_accuracy: 0.9708 - val_loss: 0.0977\n",
            "Epoch 16/60\n",
            "\u001b[1m1688/1688\u001b[0m \u001b[32m━━━━━━━━━━━━━━━━━━━━\u001b[0m\u001b[37m\u001b[0m \u001b[1m9s\u001b[0m 3ms/step - accuracy: 0.9793 - loss: 0.0752 - val_accuracy: 0.9717 - val_loss: 0.0948\n",
            "Epoch 17/60\n",
            "\u001b[1m1688/1688\u001b[0m \u001b[32m━━━━━━━━━━━━━━━━━━━━\u001b[0m\u001b[37m\u001b[0m \u001b[1m10s\u001b[0m 3ms/step - accuracy: 0.9804 - loss: 0.0706 - val_accuracy: 0.9723 - val_loss: 0.0922\n",
            "Epoch 18/60\n",
            "\u001b[1m1688/1688\u001b[0m \u001b[32m━━━━━━━━━━━━━━━━━━━━\u001b[0m\u001b[37m\u001b[0m \u001b[1m6s\u001b[0m 3ms/step - accuracy: 0.9818 - loss: 0.0664 - val_accuracy: 0.9728 - val_loss: 0.0900\n",
            "Epoch 19/60\n",
            "\u001b[1m1688/1688\u001b[0m \u001b[32m━━━━━━━━━━━━━━━━━━━━\u001b[0m\u001b[37m\u001b[0m \u001b[1m6s\u001b[0m 3ms/step - accuracy: 0.9828 - loss: 0.0625 - val_accuracy: 0.9730 - val_loss: 0.0880\n",
            "Epoch 20/60\n",
            "\u001b[1m1688/1688\u001b[0m \u001b[32m━━━━━━━━━━━━━━━━━━━━\u001b[0m\u001b[37m\u001b[0m \u001b[1m11s\u001b[0m 4ms/step - accuracy: 0.9837 - loss: 0.0589 - val_accuracy: 0.9735 - val_loss: 0.0863\n",
            "Epoch 21/60\n",
            "\u001b[1m1688/1688\u001b[0m \u001b[32m━━━━━━━━━━━━━━━━━━━━\u001b[0m\u001b[37m\u001b[0m \u001b[1m10s\u001b[0m 4ms/step - accuracy: 0.9847 - loss: 0.0556 - val_accuracy: 0.9735 - val_loss: 0.0847\n",
            "Epoch 22/60\n",
            "\u001b[1m1688/1688\u001b[0m \u001b[32m━━━━━━━━━━━━━━━━━━━━\u001b[0m\u001b[37m\u001b[0m \u001b[1m6s\u001b[0m 4ms/step - accuracy: 0.9860 - loss: 0.0525 - val_accuracy: 0.9735 - val_loss: 0.0834\n",
            "Epoch 23/60\n",
            "\u001b[1m1688/1688\u001b[0m \u001b[32m━━━━━━━━━━━━━━━━━━━━\u001b[0m\u001b[37m\u001b[0m \u001b[1m6s\u001b[0m 4ms/step - accuracy: 0.9870 - loss: 0.0496 - val_accuracy: 0.9742 - val_loss: 0.0823\n",
            "Epoch 24/60\n",
            "\u001b[1m1688/1688\u001b[0m \u001b[32m━━━━━━━━━━━━━━━━━━━━\u001b[0m\u001b[37m\u001b[0m \u001b[1m5s\u001b[0m 3ms/step - accuracy: 0.9883 - loss: 0.0469 - val_accuracy: 0.9743 - val_loss: 0.0814\n",
            "Epoch 25/60\n",
            "\u001b[1m1688/1688\u001b[0m \u001b[32m━━━━━━━━━━━━━━━━━━━━\u001b[0m\u001b[37m\u001b[0m \u001b[1m6s\u001b[0m 3ms/step - accuracy: 0.9891 - loss: 0.0443 - val_accuracy: 0.9748 - val_loss: 0.0806\n",
            "Epoch 26/60\n",
            "\u001b[1m1688/1688\u001b[0m \u001b[32m━━━━━━━━━━━━━━━━━━━━\u001b[0m\u001b[37m\u001b[0m \u001b[1m10s\u001b[0m 3ms/step - accuracy: 0.9897 - loss: 0.0420 - val_accuracy: 0.9752 - val_loss: 0.0799\n",
            "Epoch 27/60\n",
            "\u001b[1m1688/1688\u001b[0m \u001b[32m━━━━━━━━━━━━━━━━━━━━\u001b[0m\u001b[37m\u001b[0m \u001b[1m10s\u001b[0m 3ms/step - accuracy: 0.9903 - loss: 0.0397 - val_accuracy: 0.9757 - val_loss: 0.0793\n",
            "Epoch 28/60\n",
            "\u001b[1m1688/1688\u001b[0m \u001b[32m━━━━━━━━━━━━━━━━━━━━\u001b[0m\u001b[37m\u001b[0m \u001b[1m6s\u001b[0m 4ms/step - accuracy: 0.9910 - loss: 0.0376 - val_accuracy: 0.9760 - val_loss: 0.0788\n",
            "Epoch 29/60\n",
            "\u001b[1m1688/1688\u001b[0m \u001b[32m━━━━━━━━━━━━━━━━━━━━\u001b[0m\u001b[37m\u001b[0m \u001b[1m9s\u001b[0m 3ms/step - accuracy: 0.9916 - loss: 0.0356 - val_accuracy: 0.9760 - val_loss: 0.0784\n",
            "Epoch 30/60\n",
            "\u001b[1m1688/1688\u001b[0m \u001b[32m━━━━━━━━━━━━━━━━━━━━\u001b[0m\u001b[37m\u001b[0m \u001b[1m6s\u001b[0m 3ms/step - accuracy: 0.9921 - loss: 0.0337 - val_accuracy: 0.9758 - val_loss: 0.0780\n",
            "Epoch 31/60\n",
            "\u001b[1m1688/1688\u001b[0m \u001b[32m━━━━━━━━━━━━━━━━━━━━\u001b[0m\u001b[37m\u001b[0m \u001b[1m5s\u001b[0m 3ms/step - accuracy: 0.9927 - loss: 0.0320 - val_accuracy: 0.9758 - val_loss: 0.0777\n",
            "Epoch 32/60\n",
            "\u001b[1m1688/1688\u001b[0m \u001b[32m━━━━━━━━━━━━━━━━━━━━\u001b[0m\u001b[37m\u001b[0m \u001b[1m6s\u001b[0m 4ms/step - accuracy: 0.9931 - loss: 0.0303 - val_accuracy: 0.9753 - val_loss: 0.0774\n",
            "Epoch 33/60\n",
            "\u001b[1m1688/1688\u001b[0m \u001b[32m━━━━━━━━━━━━━━━━━━━━\u001b[0m\u001b[37m\u001b[0m \u001b[1m10s\u001b[0m 4ms/step - accuracy: 0.9938 - loss: 0.0287 - val_accuracy: 0.9757 - val_loss: 0.0772\n",
            "Epoch 34/60\n",
            "\u001b[1m1688/1688\u001b[0m \u001b[32m━━━━━━━━━━━━━━━━━━━━\u001b[0m\u001b[37m\u001b[0m \u001b[1m5s\u001b[0m 3ms/step - accuracy: 0.9942 - loss: 0.0273 - val_accuracy: 0.9758 - val_loss: 0.0770\n",
            "Epoch 35/60\n",
            "\u001b[1m1688/1688\u001b[0m \u001b[32m━━━━━━━━━━━━━━━━━━━━\u001b[0m\u001b[37m\u001b[0m \u001b[1m6s\u001b[0m 3ms/step - accuracy: 0.9947 - loss: 0.0259 - val_accuracy: 0.9758 - val_loss: 0.0768\n",
            "Epoch 36/60\n",
            "\u001b[1m1688/1688\u001b[0m \u001b[32m━━━━━━━━━━━━━━━━━━━━\u001b[0m\u001b[37m\u001b[0m \u001b[1m10s\u001b[0m 3ms/step - accuracy: 0.9950 - loss: 0.0246 - val_accuracy: 0.9765 - val_loss: 0.0766\n",
            "Epoch 37/60\n",
            "\u001b[1m1688/1688\u001b[0m \u001b[32m━━━━━━━━━━━━━━━━━━━━\u001b[0m\u001b[37m\u001b[0m \u001b[1m10s\u001b[0m 3ms/step - accuracy: 0.9953 - loss: 0.0234 - val_accuracy: 0.9767 - val_loss: 0.0766\n",
            "Epoch 38/60\n",
            "\u001b[1m1688/1688\u001b[0m \u001b[32m━━━━━━━━━━━━━━━━━━━━\u001b[0m\u001b[37m\u001b[0m \u001b[1m10s\u001b[0m 3ms/step - accuracy: 0.9962 - loss: 0.0222 - val_accuracy: 0.9768 - val_loss: 0.0765\n",
            "Epoch 39/60\n",
            "\u001b[1m1688/1688\u001b[0m \u001b[32m━━━━━━━━━━━━━━━━━━━━\u001b[0m\u001b[37m\u001b[0m \u001b[1m10s\u001b[0m 3ms/step - accuracy: 0.9966 - loss: 0.0212 - val_accuracy: 0.9773 - val_loss: 0.0764\n",
            "Epoch 40/60\n",
            "\u001b[1m1688/1688\u001b[0m \u001b[32m━━━━━━━━━━━━━━━━━━━━\u001b[0m\u001b[37m\u001b[0m \u001b[1m5s\u001b[0m 3ms/step - accuracy: 0.9969 - loss: 0.0201 - val_accuracy: 0.9773 - val_loss: 0.0764\n",
            "Epoch 41/60\n",
            "\u001b[1m1688/1688\u001b[0m \u001b[32m━━━━━━━━━━━━━━━━━━━━\u001b[0m\u001b[37m\u001b[0m \u001b[1m10s\u001b[0m 3ms/step - accuracy: 0.9971 - loss: 0.0192 - val_accuracy: 0.9777 - val_loss: 0.0763\n",
            "Epoch 42/60\n",
            "\u001b[1m1688/1688\u001b[0m \u001b[32m━━━━━━━━━━━━━━━━━━━━\u001b[0m\u001b[37m\u001b[0m \u001b[1m6s\u001b[0m 4ms/step - accuracy: 0.9972 - loss: 0.0182 - val_accuracy: 0.9775 - val_loss: 0.0762\n",
            "Epoch 43/60\n",
            "\u001b[1m1688/1688\u001b[0m \u001b[32m━━━━━━━━━━━━━━━━━━━━\u001b[0m\u001b[37m\u001b[0m \u001b[1m10s\u001b[0m 4ms/step - accuracy: 0.9976 - loss: 0.0174 - val_accuracy: 0.9778 - val_loss: 0.0763\n",
            "Epoch 44/60\n",
            "\u001b[1m1688/1688\u001b[0m \u001b[32m━━━━━━━━━━━━━━━━━━━━\u001b[0m\u001b[37m\u001b[0m \u001b[1m9s\u001b[0m 3ms/step - accuracy: 0.9977 - loss: 0.0166 - val_accuracy: 0.9775 - val_loss: 0.0762\n",
            "Epoch 45/60\n",
            "\u001b[1m1688/1688\u001b[0m \u001b[32m━━━━━━━━━━━━━━━━━━━━\u001b[0m\u001b[37m\u001b[0m \u001b[1m10s\u001b[0m 3ms/step - accuracy: 0.9979 - loss: 0.0158 - val_accuracy: 0.9778 - val_loss: 0.0762\n",
            "Epoch 46/60\n",
            "\u001b[1m1688/1688\u001b[0m \u001b[32m━━━━━━━━━━━━━━━━━━━━\u001b[0m\u001b[37m\u001b[0m \u001b[1m6s\u001b[0m 4ms/step - accuracy: 0.9980 - loss: 0.0151 - val_accuracy: 0.9777 - val_loss: 0.0763\n",
            "Epoch 47/60\n",
            "\u001b[1m1688/1688\u001b[0m \u001b[32m━━━━━━━━━━━━━━━━━━━━\u001b[0m\u001b[37m\u001b[0m \u001b[1m10s\u001b[0m 3ms/step - accuracy: 0.9982 - loss: 0.0144 - val_accuracy: 0.9775 - val_loss: 0.0763\n",
            "Epoch 48/60\n",
            "\u001b[1m1688/1688\u001b[0m \u001b[32m━━━━━━━━━━━━━━━━━━━━\u001b[0m\u001b[37m\u001b[0m \u001b[1m10s\u001b[0m 3ms/step - accuracy: 0.9983 - loss: 0.0137 - val_accuracy: 0.9775 - val_loss: 0.0764\n",
            "Epoch 49/60\n",
            "\u001b[1m1688/1688\u001b[0m \u001b[32m━━━━━━━━━━━━━━━━━━━━\u001b[0m\u001b[37m\u001b[0m \u001b[1m6s\u001b[0m 4ms/step - accuracy: 0.9984 - loss: 0.0131 - val_accuracy: 0.9777 - val_loss: 0.0764\n",
            "Epoch 50/60\n",
            "\u001b[1m1688/1688\u001b[0m \u001b[32m━━━━━━━━━━━━━━━━━━━━\u001b[0m\u001b[37m\u001b[0m \u001b[1m5s\u001b[0m 3ms/step - accuracy: 0.9986 - loss: 0.0125 - val_accuracy: 0.9783 - val_loss: 0.0765\n",
            "Epoch 51/60\n",
            "\u001b[1m1688/1688\u001b[0m \u001b[32m━━━━━━━━━━━━━━━━━━━━\u001b[0m\u001b[37m\u001b[0m \u001b[1m6s\u001b[0m 4ms/step - accuracy: 0.9988 - loss: 0.0120 - val_accuracy: 0.9782 - val_loss: 0.0765\n",
            "Epoch 52/60\n",
            "\u001b[1m1688/1688\u001b[0m \u001b[32m━━━━━━━━━━━━━━━━━━━━\u001b[0m\u001b[37m\u001b[0m \u001b[1m9s\u001b[0m 3ms/step - accuracy: 0.9990 - loss: 0.0115 - val_accuracy: 0.9782 - val_loss: 0.0767\n",
            "Epoch 53/60\n",
            "\u001b[1m1688/1688\u001b[0m \u001b[32m━━━━━━━━━━━━━━━━━━━━\u001b[0m\u001b[37m\u001b[0m \u001b[1m10s\u001b[0m 3ms/step - accuracy: 0.9990 - loss: 0.0110 - val_accuracy: 0.9783 - val_loss: 0.0768\n",
            "Epoch 54/60\n",
            "\u001b[1m1688/1688\u001b[0m \u001b[32m━━━━━━━━━━━━━━━━━━━━\u001b[0m\u001b[37m\u001b[0m \u001b[1m6s\u001b[0m 4ms/step - accuracy: 0.9991 - loss: 0.0105 - val_accuracy: 0.9782 - val_loss: 0.0768\n",
            "Epoch 55/60\n",
            "\u001b[1m1688/1688\u001b[0m \u001b[32m━━━━━━━━━━━━━━━━━━━━\u001b[0m\u001b[37m\u001b[0m \u001b[1m10s\u001b[0m 3ms/step - accuracy: 0.9991 - loss: 0.0101 - val_accuracy: 0.9782 - val_loss: 0.0769\n",
            "Epoch 56/60\n",
            "\u001b[1m1688/1688\u001b[0m \u001b[32m━━━━━━━━━━━━━━━━━━━━\u001b[0m\u001b[37m\u001b[0m \u001b[1m5s\u001b[0m 3ms/step - accuracy: 0.9992 - loss: 0.0097 - val_accuracy: 0.9783 - val_loss: 0.0771\n",
            "Epoch 57/60\n",
            "\u001b[1m1688/1688\u001b[0m \u001b[32m━━━━━━━━━━━━━━━━━━━━\u001b[0m\u001b[37m\u001b[0m \u001b[1m11s\u001b[0m 4ms/step - accuracy: 0.9993 - loss: 0.0093 - val_accuracy: 0.9785 - val_loss: 0.0772\n",
            "Epoch 58/60\n",
            "\u001b[1m1688/1688\u001b[0m \u001b[32m━━━━━━━━━━━━━━━━━━━━\u001b[0m\u001b[37m\u001b[0m \u001b[1m10s\u001b[0m 4ms/step - accuracy: 0.9994 - loss: 0.0089 - val_accuracy: 0.9785 - val_loss: 0.0773\n",
            "Epoch 59/60\n",
            "\u001b[1m1688/1688\u001b[0m \u001b[32m━━━━━━━━━━━━━━━━━━━━\u001b[0m\u001b[37m\u001b[0m \u001b[1m9s\u001b[0m 3ms/step - accuracy: 0.9994 - loss: 0.0086 - val_accuracy: 0.9787 - val_loss: 0.0774\n",
            "Epoch 60/60\n",
            "\u001b[1m1688/1688\u001b[0m \u001b[32m━━━━━━━━━━━━━━━━━━━━\u001b[0m\u001b[37m\u001b[0m \u001b[1m6s\u001b[0m 4ms/step - accuracy: 0.9995 - loss: 0.0083 - val_accuracy: 0.9785 - val_loss: 0.0776\n"
          ]
        }
      ],
      "source": [
        "# model training\n",
        "model_r = model.fit(x_train,y_train,epochs=60,\n",
        "                         validation_data=(x_valid,y_valid))"
      ]
    },
    {
      "cell_type": "code",
      "execution_count": 27,
      "id": "78c9249d",
      "metadata": {
        "id": "78c9249d",
        "outputId": "db3a1207-434b-4963-9358-7ce25d7bc5b1",
        "colab": {
          "base_uri": "https://localhost:8080/"
        }
      },
      "outputs": [
        {
          "output_type": "stream",
          "name": "stdout",
          "text": [
            "\u001b[1m313/313\u001b[0m \u001b[32m━━━━━━━━━━━━━━━━━━━━\u001b[0m\u001b[37m\u001b[0m \u001b[1m1s\u001b[0m 2ms/step - accuracy: 0.9721 - loss: 0.0915\n"
          ]
        },
        {
          "output_type": "execute_result",
          "data": {
            "text/plain": [
              "[0.07749252021312714, 0.9768999814987183]"
            ]
          },
          "metadata": {},
          "execution_count": 27
        }
      ],
      "source": [
        "model.evaluate(x_test,y_test)"
      ]
    },
    {
      "cell_type": "markdown",
      "source": [],
      "metadata": {
        "id": "P5izmayhp2G1"
      },
      "id": "P5izmayhp2G1"
    },
    {
      "cell_type": "code",
      "execution_count": 33,
      "id": "11753143",
      "metadata": {
        "id": "11753143",
        "outputId": "6767f6a1-53ac-413e-8b5d-f94df69424ba",
        "colab": {
          "base_uri": "https://localhost:8080/",
          "height": 451
        }
      },
      "outputs": [
        {
          "output_type": "display_data",
          "data": {
            "text/plain": [
              "<Figure size 800x500 with 1 Axes>"
            ],
            "image/png": "[encoded data removed]"
          },
          "metadata": {}
        }
      ],
      "source": [
        "# Val-loss\n",
        "history = pd.DataFrame( model_r.history)\n",
        "\n",
        "history.plot(figsize=(8,5))\n",
        "plt.grid(True)\n",
        "plt.gca().set_ylim(0,1) #Restricts the y-axis between 0 and 1\n",
        "plt.show()"
      ]
    },
    {
      "cell_type": "code",
      "execution_count": 29,
      "id": "40d4980d",
      "metadata": {
        "id": "40d4980d"
      },
      "outputs": [],
      "source": [
        "# predicting first five Digits select 5 first out of 10000 samples\n",
        "x_new=x_test[:5]"
      ]
    },
    {
      "cell_type": "code",
      "execution_count": 30,
      "id": "dbee63c1",
      "metadata": {
        "id": "dbee63c1",
        "outputId": "c5693765-7078-4c91-ebda-52443b0f54df",
        "colab": {
          "base_uri": "https://localhost:8080/"
        }
      },
      "outputs": [
        {
          "output_type": "stream",
          "name": "stdout",
          "text": [
            "\u001b[1m1/1\u001b[0m \u001b[32m━━━━━━━━━━━━━━━━━━━━\u001b[0m\u001b[37m\u001b[0m \u001b[1m0s\u001b[0m 74ms/step\n"
          ]
        },
        {
          "output_type": "execute_result",
          "data": {
            "text/plain": [
              "array([[0., 0., 0., 0., 0., 0., 0., 1., 0., 0.],\n",
              "       [0., 0., 1., 0., 0., 0., 0., 0., 0., 0.],\n",
              "       [0., 1., 0., 0., 0., 0., 0., 0., 0., 0.],\n",
              "       [1., 0., 0., 0., 0., 0., 0., 0., 0., 0.],\n",
              "       [0., 0., 0., 0., 1., 0., 0., 0., 0., 0.]], dtype=float32)"
            ]
          },
          "metadata": {},
          "execution_count": 30
        }
      ],
      "source": [
        "y_proba = model.predict(x_new)\n",
        "y_proba.round(2) #roundoff"
      ]
    },
    {
      "cell_type": "code",
      "execution_count": 31,
      "id": "228abeea",
      "metadata": {
        "id": "228abeea",
        "colab": {
          "base_uri": "https://localhost:8080/"
        },
        "outputId": "05821c94-9aa2-45fd-c8c4-905873c70510"
      },
      "outputs": [
        {
          "output_type": "stream",
          "name": "stdout",
          "text": [
            "\u001b[1m1/1\u001b[0m \u001b[32m━━━━━━━━━━━━━━━━━━━━\u001b[0m\u001b[37m\u001b[0m \u001b[1m0s\u001b[0m 35ms/step\n"
          ]
        }
      ],
      "source": [
        "predict_x = model.predict(x_new)\n",
        "classes_x=np.argmax(predict_x,axis=1) #np.argmax(...) finds the index of the highest probability in each prediction"
      ]
    },
    {
      "cell_type": "code",
      "execution_count": 32,
      "id": "979549e2",
      "metadata": {
        "id": "979549e2",
        "outputId": "46e5562f-5b08-4774-9b0e-87ef8515d7ef",
        "colab": {
          "base_uri": "https://localhost:8080/"
        }
      },
      "outputs": [
        {
          "output_type": "execute_result",
          "data": {
            "text/plain": [
              "array([7, 2, 1, 0, 4])"
            ]
          },
          "metadata": {},
          "execution_count": 32
        }
      ],
      "source": [
        "# Output\n",
        "classes_x"
      ]
    },
    {
      "cell_type": "code",
      "source": [],
      "metadata": {
        "id": "ec9nEP5rWdu7"
      },
      "id": "ec9nEP5rWdu7",
      "execution_count": null,
      "outputs": []
    }
  ],
  "metadata": {
    "kernelspec": {
      "display_name": "Python 3",
      "language": "python",
      "name": "python3"
    },
    "language_info": {
      "codemirror_mode": {
        "name": "ipython",
        "version": 3
      },
      "file_extension": ".py",
      "mimetype": "text/x-python",
      "name": "python",
      "nbconvert_exporter": "python",
      "pygments_lexer": "ipython3",
      "version": "3.8.8"
    },
    "colab": {
      "provenance": []
    }
  },
  "nbformat": 4,
  "nbformat_minor": 5
}